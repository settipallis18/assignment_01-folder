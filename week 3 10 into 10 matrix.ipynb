{
 "cells": [
  {
   "cell_type": "markdown",
   "id": "313fb758",
   "metadata": {},
   "source": [
    "## 1. Print a Random 10 * 10 Matrix"
   ]
  },
  {
   "cell_type": "code",
   "execution_count": 7,
   "id": "6eaf70e7",
   "metadata": {},
   "outputs": [
    {
     "name": "stdout",
     "output_type": "stream",
     "text": [
      "2 4 5 9 2 0 8 4 0 3 \n",
      "6 9 6 7 7 7 9 2 2 7 \n",
      "6 6 7 5 2 8 9 9 0 8 \n",
      "7 9 7 3 1 4 7 9 8 2 \n",
      "8 8 0 9 7 8 6 1 5 9 \n",
      "6 3 4 6 2 4 0 3 7 1 \n",
      "0 1 7 8 6 1 4 9 9 1 \n",
      "0 4 2 1 6 6 3 7 5 2 \n",
      "9 0 3 3 9 7 6 6 5 8 \n",
      "2 3 2 2 7 1 3 3 7 2 \n"
     ]
    }
   ],
   "source": [
    "import numpy as np\n",
    "\n",
    "for i in range(10):\n",
    "    \n",
    "    for j in range(10):\n",
    "        print(np.random.randint(10),end=\" \")\n",
    "        j+=1\n",
    "        \n",
    "    i+=1\n",
    "    \n",
    "    print(\"\\n\",end=\"\")"
   ]
  },
  {
   "cell_type": "markdown",
   "id": "7a9ad7a2",
   "metadata": {},
   "source": [
    "## If the random number is an odd number, print \"@\" instead. like the following:\n"
   ]
  },
  {
   "cell_type": "code",
   "execution_count": 23,
   "id": "4551fe6c",
   "metadata": {},
   "outputs": [
    {
     "name": "stdout",
     "output_type": "stream",
     "text": [
      "6 6 @ 0 0 @ @ @ 8 8 \n",
      "8 @ @ @ 2 @ @ 8 @ @ \n",
      "4 @ 4 0 @ @ @ @ @ 6 \n",
      "0 @ 2 @ @ @ 4 4 @ 0 \n",
      "@ @ @ 4 6 @ @ @ @ 0 \n",
      "@ 2 8 8 @ @ 0 @ @ @ \n",
      "2 @ @ @ 2 @ 2 8 4 @ \n",
      "8 @ @ @ 8 6 6 @ 6 4 \n",
      "@ 8 6 4 8 @ 2 6 8 @ \n",
      "8 @ 4 @ 6 @ 2 0 4 @ \n"
     ]
    }
   ],
   "source": [
    "import numpy as np\n",
    "for i in range(10):\n",
    "    \n",
    "    for j in range(10):\n",
    "        x = np.random.randint(10)\n",
    "        \n",
    "        if x%2==0:\n",
    "            print(x,end=\" \")\n",
    "        else:\n",
    "            print(\"@\",end=\" \")\n",
    "            \n",
    "        j+=1\n",
    "        \n",
    "    i+=1\n",
    "    print(\"\\n\",end=\"\")"
   ]
  },
  {
   "cell_type": "markdown",
   "id": "ace8215e",
   "metadata": {},
   "source": [
    "## 3.Calculate and Print the total of each row like the following (use \"*\" to separate the total from the numbers):\n"
   ]
  },
  {
   "cell_type": "code",
   "execution_count": 21,
   "id": "20c92654",
   "metadata": {},
   "outputs": [
    {
     "name": "stdout",
     "output_type": "stream",
     "text": [
      "4 4 1 9 0 1 7 5 8 2 * 41\n",
      "1 8 9 9 6 3 4 4 7 8 * 59\n",
      "8 6 6 4 7 0 6 8 4 0 * 49\n",
      "2 7 9 7 1 8 3 1 6 5 * 49\n",
      "6 1 5 0 6 8 7 6 3 5 * 47\n",
      "7 3 6 5 1 1 4 9 1 2 * 39\n",
      "5 7 2 9 9 5 8 0 9 8 * 62\n",
      "9 2 5 3 9 9 6 3 1 6 * 53\n",
      "9 2 7 6 9 9 1 3 6 9 * 61\n",
      "1 2 6 9 1 6 7 5 4 1 * 42\n"
     ]
    }
   ],
   "source": [
    "import random\n",
    "sum = 0\n",
    "for i in range(0,10):\n",
    "  for j in range(0,10):\n",
    "    a = random.randint(0,9)\n",
    "    print(a, end =\" \")\n",
    "    sum = sum + a\n",
    "    #sum = sum + random.randint(0,9)\n",
    "  print(\"*\",sum)\n",
    "  sum =0\n",
    "  \n"
   ]
  },
  {
   "cell_type": "markdown",
   "id": "be03b07b",
   "metadata": {},
   "source": [
    "## 4.Surround the matrix with asterisks (*) like the following:\n"
   ]
  },
  {
   "cell_type": "code",
   "execution_count": 25,
   "id": "673824fa",
   "metadata": {},
   "outputs": [
    {
     "name": "stdout",
     "output_type": "stream",
     "text": [
      "*************************\n",
      "* 7 7 1 1 4 3 7 1 9 9 *\n",
      "* 7 6 5 6 1 5 8 0 7 6 *\n",
      "* 5 7 4 8 9 1 8 3 6 1 *\n",
      "* 5 3 3 9 8 0 7 5 4 4 *\n",
      "* 5 9 6 0 4 6 7 0 7 4 *\n",
      "* 7 3 3 2 5 2 4 5 0 1 *\n",
      "* 2 0 0 4 5 2 4 5 2 9 *\n",
      "* 2 5 5 4 5 5 9 2 8 6 *\n",
      "* 5 3 2 0 3 5 1 9 8 9 *\n",
      "* 7 0 1 2 9 4 1 7 4 9 *\n",
      "*************************\n"
     ]
    }
   ],
   "source": [
    "import numpy as np\n",
    "print(\"*\"*25)\n",
    "for i in range(10):\n",
    "    print(\"*\",end=\" \")\n",
    "\n",
    "    for j in range(10):\n",
    "       print(np.random.randint(0,10),end=\" \")\n",
    "       j+=1\n",
    "        \n",
    "    i+=1\n",
    "    print(\"*\")\n",
    "    print(end=\"\")\n",
    "print(\"*\"*25)"
   ]
  },
  {
   "cell_type": "markdown",
   "id": "c1d06add",
   "metadata": {},
   "source": [
    "## 5.Calculate and Print the total of each row and column like the following:\n"
   ]
  },
  {
   "cell_type": "code",
   "execution_count": 21,
   "id": "90cc5cca",
   "metadata": {},
   "outputs": [
    {
     "name": "stdout",
     "output_type": "stream",
     "text": [
      "4 1 7 6 0 0 8 3 6 9 * 44\n",
      "9 0 9 1 8 7 0 4 6 7 * 51\n",
      "2 2 5 3 1 5 8 0 4 1 * 31\n",
      "1 5 5 2 8 2 1 6 4 8 * 42\n",
      "9 3 2 9 2 3 3 5 1 0 * 37\n",
      "1 1 3 2 7 3 5 7 3 7 * 39\n",
      "1 6 1 9 4 5 9 7 6 9 * 57\n",
      "5 2 4 1 4 9 4 1 9 4 * 43\n",
      "5 1 2 8 1 4 6 5 7 8 * 47\n",
      "2 2 6 2 0 7 5 6 3 6 * 39\n",
      "* * * * * * * * * * \n",
      "44 51 31 42 37 39 57 43 47 39 "
     ]
    }
   ],
   "source": [
    "import numpy\n",
    "matrix = []\n",
    "k=[]\n",
    "\n",
    "for i in range(10):\n",
    "    a=[]\n",
    "    \n",
    "    for j in range(10):\n",
    "        a.append (np.random.randint(0,10))\n",
    "    matrix.append(a)\n",
    "    \n",
    "for i in range(10):\n",
    "    b=0\n",
    "    m=0\n",
    "    \n",
    "    for j in range(10):\n",
    "        print(matrix[i][j], end = \" \")\n",
    "        b=b+matrix[i][j]\n",
    "        m=m+matrix[i][j]\n",
    "    \n",
    "    k.append(m)\n",
    "    print(\"*\", b)\n",
    "\n",
    "print(\"* \"*10)\n",
    "\n",
    "for i in range(len(k)):\n",
    "    print(k[i],end=\" \")"
   ]
  },
  {
   "cell_type": "markdown",
   "id": "250dea93",
   "metadata": {},
   "source": [
    "### Resource: https://stackoverflow.com/questions/60747752/not-be-able-to-make-a-matrix-10x10-in-python"
   ]
  },
  {
   "cell_type": "code",
   "execution_count": null,
   "id": "5ac1471a",
   "metadata": {},
   "outputs": [],
   "source": []
  }
 ],
 "metadata": {
  "kernelspec": {
   "display_name": "Python 3",
   "language": "python",
   "name": "python3"
  },
  "language_info": {
   "codemirror_mode": {
    "name": "ipython",
    "version": 3
   },
   "file_extension": ".py",
   "mimetype": "text/x-python",
   "name": "python",
   "nbconvert_exporter": "python",
   "pygments_lexer": "ipython3",
   "version": "3.8.8"
  }
 },
 "nbformat": 4,
 "nbformat_minor": 5
}
