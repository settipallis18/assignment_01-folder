{
 "cells": [
  {
   "cell_type": "markdown",
   "id": "579765b7",
   "metadata": {},
   "source": [
    "## 1. Print a Random 10 * 10 Matrix"
   ]
  },
  {
   "cell_type": "code",
   "execution_count": 22,
   "id": "27fc8b94",
   "metadata": {},
   "outputs": [
    {
     "name": "stdout",
     "output_type": "stream",
     "text": [
      "3 9 0 5 9 1 1 5 4 6 \n",
      "8 6 4 6 9 9 8 5 7 6 \n",
      "2 7 1 9 9 8 2 8 4 7 \n",
      "1 1 0 2 3 6 3 2 1 7 \n",
      "7 5 7 6 6 3 1 6 3 6 \n",
      "6 8 3 2 2 4 4 9 3 8 \n",
      "2 4 3 8 0 9 1 7 2 8 \n",
      "4 6 2 2 8 8 9 1 6 5 \n",
      "3 1 8 4 2 9 7 5 0 0 \n",
      "2 8 7 5 7 8 4 2 9 9 \n"
     ]
    }
   ],
   "source": [
    "import numpy as np\n",
    "\n",
    "for i in range(10):\n",
    "    \n",
    "    for j in range(10):\n",
    "        print(np.random.randint(10),end=\" \")\n",
    "        j+=1\n",
    "        \n",
    "    i+=1\n",
    "    \n",
    "    print(\"\\n\",end=\"\")"
   ]
  },
  {
   "cell_type": "markdown",
   "id": "85bbf62d",
   "metadata": {},
   "source": [
    "## If the random number is an odd number, print \"@\" instead. like the following:\n"
   ]
  },
  {
   "cell_type": "code",
   "execution_count": 23,
   "id": "9637e48c",
   "metadata": {},
   "outputs": [
    {
     "name": "stdout",
     "output_type": "stream",
     "text": [
      "6 6 @ 0 0 @ @ @ 8 8 \n",
      "8 @ @ @ 2 @ @ 8 @ @ \n",
      "4 @ 4 0 @ @ @ @ @ 6 \n",
      "0 @ 2 @ @ @ 4 4 @ 0 \n",
      "@ @ @ 4 6 @ @ @ @ 0 \n",
      "@ 2 8 8 @ @ 0 @ @ @ \n",
      "2 @ @ @ 2 @ 2 8 4 @ \n",
      "8 @ @ @ 8 6 6 @ 6 4 \n",
      "@ 8 6 4 8 @ 2 6 8 @ \n",
      "8 @ 4 @ 6 @ 2 0 4 @ \n"
     ]
    }
   ],
   "source": [
    "import numpy as np\n",
    "for i in range(10):\n",
    "    \n",
    "    for j in range(10):\n",
    "        x = np.random.randint(10)\n",
    "        \n",
    "        if x%2==0:\n",
    "            print(x,end=\" \")\n",
    "        else:\n",
    "            print(\"@\",end=\" \")\n",
    "            \n",
    "        j+=1\n",
    "        \n",
    "    i+=1\n",
    "    print(\"\\n\",end=\"\")"
   ]
  },
  {
   "cell_type": "markdown",
   "id": "75f3841d",
   "metadata": {},
   "source": [
    "## 3.Calculate and Print the total of each row like the following (use \"*\" to separate the total from the numbers):\n"
   ]
  },
  {
   "cell_type": "code",
   "execution_count": 24,
   "id": "2727cfe1",
   "metadata": {},
   "outputs": [
    {
     "name": "stdout",
     "output_type": "stream",
     "text": [
      "9 7 8 1 2 7 1 5 8 8 * 56\n",
      "0 6 6 9 8 2 6 8 6 3 * 110\n",
      "8 5 6 3 7 5 6 9 8 5 * 172\n",
      "5 3 6 1 7 5 6 2 8 4 * 219\n",
      "4 1 6 3 5 3 3 0 9 4 * 257\n",
      "1 1 6 9 8 3 3 1 0 1 * 290\n",
      "6 0 4 5 6 3 6 8 8 9 * 345\n",
      "6 1 3 8 7 8 8 0 7 3 * 396\n",
      "5 6 0 6 5 0 5 2 4 6 * 435\n",
      "7 1 0 2 2 5 0 5 4 0 * 461\n"
     ]
    }
   ],
   "source": [
    "import numpy as np\n",
    "b = 0\n",
    "for i in range(10):\n",
    "    \n",
    "    for j in range(10):\n",
    "        a = np.random.randint(0,10)\n",
    "        print(a,end=\" \")\n",
    "        b = b+a\n",
    "        j+=1\n",
    "        \n",
    "    i+=1\n",
    "    print(\"*\",b)"
   ]
  },
  {
   "cell_type": "markdown",
   "id": "febf5728",
   "metadata": {},
   "source": [
    "## 4.Surround the matrix with asterisks (*) like the following:\n"
   ]
  },
  {
   "cell_type": "code",
   "execution_count": 25,
   "id": "004f07fb",
   "metadata": {},
   "outputs": [
    {
     "name": "stdout",
     "output_type": "stream",
     "text": [
      "*************************\n",
      "* 7 7 1 1 4 3 7 1 9 9 *\n",
      "* 7 6 5 6 1 5 8 0 7 6 *\n",
      "* 5 7 4 8 9 1 8 3 6 1 *\n",
      "* 5 3 3 9 8 0 7 5 4 4 *\n",
      "* 5 9 6 0 4 6 7 0 7 4 *\n",
      "* 7 3 3 2 5 2 4 5 0 1 *\n",
      "* 2 0 0 4 5 2 4 5 2 9 *\n",
      "* 2 5 5 4 5 5 9 2 8 6 *\n",
      "* 5 3 2 0 3 5 1 9 8 9 *\n",
      "* 7 0 1 2 9 4 1 7 4 9 *\n",
      "*************************\n"
     ]
    }
   ],
   "source": [
    "import numpy as np\n",
    "print(\"*\"*25)\n",
    "for i in range(10):\n",
    "    print(\"*\",end=\" \")\n",
    "\n",
    "    for j in range(10):\n",
    "       print(np.random.randint(0,10),end=\" \")\n",
    "       j+=1\n",
    "        \n",
    "    i+=1\n",
    "    print(\"*\")\n",
    "    print(end=\"\")\n",
    "print(\"*\"*25)"
   ]
  },
  {
   "cell_type": "markdown",
   "id": "40b2411a",
   "metadata": {},
   "source": [
    "## 5.Calculate and Print the total of each row and column like the following:\n"
   ]
  },
  {
   "cell_type": "code",
   "execution_count": 21,
   "id": "2c40d110",
   "metadata": {},
   "outputs": [
    {
     "name": "stdout",
     "output_type": "stream",
     "text": [
      "4 1 7 6 0 0 8 3 6 9 * 44\n",
      "9 0 9 1 8 7 0 4 6 7 * 51\n",
      "2 2 5 3 1 5 8 0 4 1 * 31\n",
      "1 5 5 2 8 2 1 6 4 8 * 42\n",
      "9 3 2 9 2 3 3 5 1 0 * 37\n",
      "1 1 3 2 7 3 5 7 3 7 * 39\n",
      "1 6 1 9 4 5 9 7 6 9 * 57\n",
      "5 2 4 1 4 9 4 1 9 4 * 43\n",
      "5 1 2 8 1 4 6 5 7 8 * 47\n",
      "2 2 6 2 0 7 5 6 3 6 * 39\n",
      "* * * * * * * * * * \n",
      "44 51 31 42 37 39 57 43 47 39 "
     ]
    }
   ],
   "source": [
    "import numpy\n",
    "matrix = []\n",
    "k=[]\n",
    "\n",
    "for i in range(10):\n",
    "    a=[]\n",
    "    \n",
    "    for j in range(10):\n",
    "        a.append (np.random.randint(0,10))\n",
    "    matrix.append(a)\n",
    "    \n",
    "for i in range(10):\n",
    "    b=0\n",
    "    m=0\n",
    "    \n",
    "    for j in range(10):\n",
    "        print(matrix[i][j], end = \" \")\n",
    "        b=b+matrix[i][j]\n",
    "        m=m+matrix[i][j]\n",
    "    \n",
    "    k.append(m)\n",
    "    print(\"*\", b)\n",
    "\n",
    "print(\"* \"*10)\n",
    "\n",
    "for i in range(len(k)):\n",
    "    print(k[i],end=\" \")"
   ]
  },
  {
   "cell_type": "markdown",
   "id": "4716bc85",
   "metadata": {},
   "source": [
    "#"
   ]
  }
 ],
 "metadata": {
  "kernelspec": {
   "display_name": "Python 3",
   "language": "python",
   "name": "python3"
  },
  "language_info": {
   "codemirror_mode": {
    "name": "ipython",
    "version": 3
   },
   "file_extension": ".py",
   "mimetype": "text/x-python",
   "name": "python",
   "nbconvert_exporter": "python",
   "pygments_lexer": "ipython3",
   "version": "3.8.8"
  }
 },
 "nbformat": 4,
 "nbformat_minor": 5
}
