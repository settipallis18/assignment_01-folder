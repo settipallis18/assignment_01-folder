{
 "cells": [
  {
   "cell_type": "markdown",
   "id": "79c979ca",
   "metadata": {},
   "source": [
    "## Provide User to Enter the 10 Integer Values"
   ]
  },
  {
   "cell_type": "code",
   "execution_count": 1,
   "id": "8f6b96b9",
   "metadata": {},
   "outputs": [
    {
     "name": "stdout",
     "output_type": "stream",
     "text": [
      "Enter a Integer:12\n",
      "Got Integer 12\n",
      "Enter a Integer:34\n",
      "Got Integer 34\n",
      "Enter a Integer:56\n",
      "Got Integer 56\n",
      "Enter a Integer:78\n",
      "Got Integer 78\n",
      "Enter a Integer:90\n",
      "Got Integer 90\n",
      "Enter a Integer:99\n",
      "Got Integer 99\n",
      "Enter a Integer:47\n",
      "Got Integer 47\n",
      "Enter a Integer:35\n",
      "Got Integer 35\n",
      "Enter a Integer:18\n",
      "Got Integer 18\n",
      "Enter a Integer:96\n",
      "Got Integer 96\n",
      "You Have Entered: [12, 34, 56, 78, 90, 99, 47, 35, 18, 96]\n"
     ]
    }
   ],
   "source": [
    "list = []\n",
    "for i in range(0,10):\n",
    "    while True:\n",
    "        p = input(\"Enter a Integer:\")\n",
    "        try:\n",
    "            q = int(p)\n",
    "            list.append(q)\n",
    "            print(\"Got Integer\",q)\n",
    "            break\n",
    "        except:\n",
    "            print(\"Must Enter an Integer. Try Again.\")\n",
    "            \n",
    "print(\"You Have Entered:\", list)"
   ]
  },
  {
   "cell_type": "markdown",
   "id": "3ed4b85b",
   "metadata": {},
   "source": [
    "## Sum of the List"
   ]
  },
  {
   "cell_type": "code",
   "execution_count": 2,
   "id": "6a103b62",
   "metadata": {},
   "outputs": [
    {
     "name": "stdout",
     "output_type": "stream",
     "text": [
      "sum = 565\n"
     ]
    }
   ],
   "source": [
    "sum = 0\n",
    "\n",
    "for i in list:\n",
    "   sum+= i\n",
    "print(\"sum =\", sum)"
   ]
  },
  {
   "cell_type": "markdown",
   "id": "2d90a71c",
   "metadata": {},
   "source": [
    "## Minimum Integer of the List"
   ]
  },
  {
   "cell_type": "code",
   "execution_count": 4,
   "id": "66638093",
   "metadata": {},
   "outputs": [
    {
     "name": "stdout",
     "output_type": "stream",
     "text": [
      "min integer of list: 12\n"
     ]
    }
   ],
   "source": [
    "def small(List):\n",
    "    min = List[0]\n",
    "    for p in list:\n",
    "        if p < min:\n",
    "            min = p\n",
    "    return min\n",
    "x = (small(list))\n",
    "print(\"min integer of list:\", x)"
   ]
  },
  {
   "cell_type": "markdown",
   "id": "3f40b698",
   "metadata": {},
   "source": [
    "## Maximum Integer of the List"
   ]
  },
  {
   "cell_type": "code",
   "execution_count": 5,
   "id": "740e7e87",
   "metadata": {},
   "outputs": [
    {
     "name": "stdout",
     "output_type": "stream",
     "text": [
      "maximum integer of list: 99\n"
     ]
    }
   ],
   "source": [
    "def large(List):\n",
    "    max = List[0]\n",
    "    for p in List:\n",
    "        if p > max:\n",
    "            max = p\n",
    "    return max\n",
    "y = (large(list))\n",
    "print(\"maximum integer of list:\",y)"
   ]
  },
  {
   "cell_type": "markdown",
   "id": "9c0c7045",
   "metadata": {},
   "source": [
    "## Range of the List"
   ]
  },
  {
   "cell_type": "code",
   "execution_count": 6,
   "id": "41a2d5d1",
   "metadata": {},
   "outputs": [
    {
     "name": "stdout",
     "output_type": "stream",
     "text": [
      "list range: 87\n"
     ]
    }
   ],
   "source": [
    "list_Range = (y-x)\n",
    "\n",
    "print(\"list range:\", list_Range)"
   ]
  },
  {
   "cell_type": "markdown",
   "id": "874b28e2",
   "metadata": {},
   "source": [
    "## Mean of the List"
   ]
  },
  {
   "cell_type": "code",
   "execution_count": 7,
   "id": "02564a63",
   "metadata": {},
   "outputs": [
    {
     "name": "stdout",
     "output_type": "stream",
     "text": [
      "mean of the List: 56.5\n"
     ]
    }
   ],
   "source": [
    "mean = sum/len(list)\n",
    "print(\"mean of the List:\",mean)"
   ]
  },
  {
   "cell_type": "markdown",
   "id": "0a7c3b06",
   "metadata": {},
   "source": [
    "## Varience of the list\n",
    "\n",
    "link: https://www.calculatorsoup.com/calculators/statistics/variance-calculator.php \n",
    "https://www.mathsisfun.com/data/standard-deviation.html"
   ]
  },
  {
   "cell_type": "code",
   "execution_count": 8,
   "id": "1b4a1726",
   "metadata": {},
   "outputs": [],
   "source": [
    "MKlast = 0\n",
    "MK = 0\n",
    "SK = 0\n",
    "K = 0\n",
    "\n",
    "for xi in list:\n",
    "    K = K+1\n",
    "    MK = MKlast + (xi - MKlast) / K\n",
    "    SK = SK + (xi - MKlast) * (xi - MK)\n",
    "    MKlast = MK"
   ]
  },
  {
   "cell_type": "code",
   "execution_count": 9,
   "id": "75034208",
   "metadata": {},
   "outputs": [
    {
     "name": "stdout",
     "output_type": "stream",
     "text": [
      "Varience of the list is: 1052.5\n"
     ]
    }
   ],
   "source": [
    "var = SK / (K-1)\n",
    "print(\"Varience of the list is:\", var)"
   ]
  },
  {
   "cell_type": "markdown",
   "id": "83e80ace",
   "metadata": {},
   "source": [
    "## Standard Deviation of the List"
   ]
  },
  {
   "cell_type": "code",
   "execution_count": 10,
   "id": "212aedc0",
   "metadata": {},
   "outputs": [
    {
     "name": "stdout",
     "output_type": "stream",
     "text": [
      "Standard Deviation of List:32.44225639501667\n"
     ]
    }
   ],
   "source": [
    "res = var ** 0.5\n",
    "print(\"Standard Deviation of List:\" + str(res))"
   ]
  },
  {
   "cell_type": "code",
   "execution_count": null,
   "id": "d73309c8",
   "metadata": {},
   "outputs": [],
   "source": []
  }
 ],
 "metadata": {
  "kernelspec": {
   "display_name": "Python 3",
   "language": "python",
   "name": "python3"
  },
  "language_info": {
   "codemirror_mode": {
    "name": "ipython",
    "version": 3
   },
   "file_extension": ".py",
   "mimetype": "text/x-python",
   "name": "python",
   "nbconvert_exporter": "python",
   "pygments_lexer": "ipython3",
   "version": "3.8.8"
  }
 },
 "nbformat": 4,
 "nbformat_minor": 5
}
